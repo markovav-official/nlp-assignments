{
 "cells": [
  {
   "cell_type": "markdown",
   "metadata": {},
   "source": [
    "# Solution 2 (best solution)"
   ]
  },
  {
   "cell_type": "code",
   "execution_count": 7,
   "metadata": {},
   "outputs": [],
   "source": [
    "%%capture\n",
    "!python -m spacy download ru_core_web_sm"
   ]
  },
  {
   "cell_type": "code",
   "execution_count": 30,
   "metadata": {},
   "outputs": [],
   "source": [
    "import pandas as pd\n",
    "import spacy\n",
    "from spacy.tokens import DocBin\n",
    "from tqdm import tqdm\n",
    "from spacy.util import filter_spans\n",
    "from sklearn.model_selection import train_test_split\n",
    "import shutil\n",
    "import warnings\n",
    "\n",
    "warnings.filterwarnings(\"ignore\")"
   ]
  },
  {
   "cell_type": "code",
   "execution_count": 31,
   "metadata": {},
   "outputs": [],
   "source": [
    "# Read train data and split it into train and validation sets\n",
    "train_original_df = pd.read_json(\"../data/train.jsonl\", lines=True)\n",
    "\n",
    "train_df, val_df = train_test_split(train_original_df, test_size=0.2, random_state=42)"
   ]
  },
  {
   "cell_type": "code",
   "execution_count": 32,
   "metadata": {},
   "outputs": [
    {
     "data": {
      "text/plain": [
       "{0: 'AGE',\n",
       " 1: 'AWARD',\n",
       " 2: 'CITY',\n",
       " 3: 'COUNTRY',\n",
       " 4: 'CRIME',\n",
       " 5: 'DATE',\n",
       " 6: 'DISEASE',\n",
       " 7: 'DISTRICT',\n",
       " 8: 'EVENT',\n",
       " 9: 'FACILITY',\n",
       " 10: 'FAMILY',\n",
       " 11: 'IDEOLOGY',\n",
       " 12: 'LANGUAGE',\n",
       " 13: 'LAW',\n",
       " 14: 'LOCATION',\n",
       " 15: 'MONEY',\n",
       " 16: 'NATIONALITY',\n",
       " 17: 'NUMBER',\n",
       " 18: 'ORDINAL',\n",
       " 19: 'ORGANIZATION',\n",
       " 20: 'PENALTY',\n",
       " 21: 'PERCENT',\n",
       " 22: 'PERSON',\n",
       " 23: 'PRODUCT',\n",
       " 24: 'PROFESSION',\n",
       " 25: 'RELIGION',\n",
       " 26: 'STATE_OR_PROVINCE',\n",
       " 27: 'TIME',\n",
       " 28: 'WORK_OF_ART'}"
      ]
     },
     "execution_count": 32,
     "metadata": {},
     "output_type": "execute_result"
    }
   ],
   "source": [
    "# Get labels from train data\n",
    "labels = set()\n",
    "for _, row in train_original_df.iterrows():\n",
    "    ners = row[\"ners\"]\n",
    "    for ner in ners:\n",
    "        labels.add(ner[2])\n",
    "\n",
    "label_mapping = {i: label for i, label in enumerate(sorted(labels))}\n",
    "\n",
    "label_mapping"
   ]
  },
  {
   "cell_type": "code",
   "execution_count": 33,
   "metadata": {},
   "outputs": [],
   "source": [
    "def dataframe_to_spacy(df, output_file_path):\n",
    "    # Create a blank spacy model\n",
    "    nlp = spacy.blank(\"ru\")\n",
    "    doc_bin = DocBin()\n",
    "\n",
    "    # Add the labels to the doc_bin\n",
    "    for _, row in tqdm(df.iterrows(), total=len(df)):\n",
    "        text = row[\"sentences\"]\n",
    "        doc = nlp.make_doc(text)\n",
    "        ents = []\n",
    "        for start, end, label in row[\"ners\"]:\n",
    "            span = doc.char_span(start, end + 1, label=label, alignment_mode=\"contract\")\n",
    "\n",
    "            # Skip if span is None (incorrect annotation for spaCy)\n",
    "            if span is None:\n",
    "                # print(\"Skipping entity:\", start, end, label, text[start:end + 1])\n",
    "                continue\n",
    "\n",
    "            # Skip if span text is not the same as the text in the dataset (incorrect spaces in the annotation)\n",
    "            if span.text != span.text.strip():\n",
    "                # print(\"ERROR entity:\", start, end, label, \"'\" + span.text + \"'\")\n",
    "                continue\n",
    "\n",
    "            ents.append(span)\n",
    "\n",
    "        # Set the entities to the doc\n",
    "        filtered_ents = filter_spans(ents)\n",
    "        doc.ents = filtered_ents\n",
    "        doc_bin.add(doc)\n",
    "\n",
    "    # Save the doc_bin\n",
    "    doc_bin.to_disk(output_file_path)"
   ]
  },
  {
   "cell_type": "code",
   "execution_count": 34,
   "metadata": {},
   "outputs": [
    {
     "name": "stderr",
     "output_type": "stream",
     "text": [
      "100%|██████████| 415/415 [00:01<00:00, 244.67it/s]\n"
     ]
    }
   ],
   "source": [
    "dataframe_to_spacy(train_df, \"training_data.spacy\")"
   ]
  },
  {
   "cell_type": "code",
   "execution_count": 35,
   "metadata": {},
   "outputs": [
    {
     "name": "stderr",
     "output_type": "stream",
     "text": [
      "100%|██████████| 104/104 [00:00<00:00, 203.93it/s]\n"
     ]
    }
   ],
   "source": [
    "dataframe_to_spacy(val_df, \"validation_data.spacy\")"
   ]
  },
  {
   "cell_type": "code",
   "execution_count": 36,
   "metadata": {},
   "outputs": [
    {
     "name": "stdout",
     "output_type": "stream",
     "text": [
      "\u001b[38;5;2m✔ Auto-filled config with all values\u001b[0m\n",
      "\u001b[38;5;2m✔ Saved config\u001b[0m\n",
      "config.cfg\n",
      "You can now add your data and train your pipeline:\n",
      "python -m spacy train config.cfg --paths.train ./train.spacy --paths.dev ./dev.spacy\n"
     ]
    },
    {
     "name": "stderr",
     "output_type": "stream",
     "text": [
      "c:\\Users\\marko\\Documents\\natural-language-processing\\venv\\Lib\\site-packages\\transformers\\utils\\generic.py:441: UserWarning: torch.utils._pytree._register_pytree_node is deprecated. Please use torch.utils._pytree.register_pytree_node instead.\n",
      "  _torch_pytree._register_pytree_node(\n",
      "c:\\Users\\marko\\Documents\\natural-language-processing\\venv\\Lib\\site-packages\\transformers\\utils\\generic.py:309: UserWarning: torch.utils._pytree._register_pytree_node is deprecated. Please use torch.utils._pytree.register_pytree_node instead.\n",
      "  _torch_pytree._register_pytree_node(\n"
     ]
    }
   ],
   "source": [
    "!python -m spacy init fill-config base_config.cfg config.cfg"
   ]
  },
  {
   "cell_type": "code",
   "execution_count": null,
   "metadata": {},
   "outputs": [],
   "source": [
    "!python -m spacy train config.cfg --output ./ --paths.train ./training_data.spacy --paths.dev ./validation_data.spacy --gpu-id 0"
   ]
  },
  {
   "cell_type": "code",
   "execution_count": 38,
   "metadata": {},
   "outputs": [],
   "source": [
    "# Remove the last model (save only the best model)\n",
    "shutil.rmtree('model-last', ignore_errors=True)"
   ]
  },
  {
   "cell_type": "code",
   "execution_count": 39,
   "metadata": {},
   "outputs": [],
   "source": [
    "# Read dev and test data\n",
    "dev_df = pd.read_json(\"../data/dev.jsonl\", lines=True)\n",
    "test_df = pd.read_json(\"../data/test.jsonl\", lines=True)"
   ]
  },
  {
   "cell_type": "code",
   "execution_count": 40,
   "metadata": {},
   "outputs": [],
   "source": [
    "# Load the trained model\n",
    "# If you want to use already trained model, unzip it from ../models folder into the current folder (solution-2)\n",
    "nlp_ner = spacy.load(\"model-best\")"
   ]
  },
  {
   "cell_type": "code",
   "execution_count": 41,
   "metadata": {},
   "outputs": [],
   "source": [
    "def predict_ner(text):\n",
    "    # Predict NER tags for the text\n",
    "    doc = nlp_ner(text)\n",
    "    return [(ent.start_char, ent.end_char, ent.label_) for ent in doc.ents]"
   ]
  },
  {
   "cell_type": "code",
   "execution_count": 42,
   "metadata": {},
   "outputs": [],
   "source": [
    "def predict_ner_df(df, output_file_path):\n",
    "    # Predict NER tags for each sentence in the dataframe\n",
    "\n",
    "    df = df.copy()\n",
    "\n",
    "    # Predict NER tags for each sentence\n",
    "    ners_col = []\n",
    "    for _, row in tqdm(df.iterrows(), total=len(df)):\n",
    "        text = row[\"senences\"]\n",
    "        ners = predict_ner(text)\n",
    "        ners = [(start, end - 1, label) for start, end, label in ners]\n",
    "        ners_col.append(ners)\n",
    "\n",
    "    # Add the predicted NER tags to the dataframe\n",
    "    df[\"ners\"] = ners_col\n",
    "\n",
    "    # Save the dataframe as a jsonl file\n",
    "    df.to_json(output_file_path, orient=\"records\", lines=True)"
   ]
  },
  {
   "cell_type": "code",
   "execution_count": 43,
   "metadata": {},
   "outputs": [
    {
     "name": "stderr",
     "output_type": "stream",
     "text": [
      "100%|██████████| 65/65 [01:11<00:00,  1.10s/it]\n"
     ]
    }
   ],
   "source": [
    "predict_ner_df(dev_df, \"dev_predictions.jsonl\")"
   ]
  },
  {
   "cell_type": "code",
   "execution_count": 44,
   "metadata": {},
   "outputs": [
    {
     "name": "stderr",
     "output_type": "stream",
     "text": [
      "100%|██████████| 65/65 [01:01<00:00,  1.05it/s]\n"
     ]
    }
   ],
   "source": [
    "predict_ner_df(test_df, \"test_predictions.jsonl\")"
   ]
  }
 ],
 "metadata": {
  "kernelspec": {
   "display_name": "venv",
   "language": "python",
   "name": "python3"
  },
  "language_info": {
   "codemirror_mode": {
    "name": "ipython",
    "version": 3
   },
   "file_extension": ".py",
   "mimetype": "text/x-python",
   "name": "python",
   "nbconvert_exporter": "python",
   "pygments_lexer": "ipython3",
   "version": "3.12.1"
  }
 },
 "nbformat": 4,
 "nbformat_minor": 2
}
