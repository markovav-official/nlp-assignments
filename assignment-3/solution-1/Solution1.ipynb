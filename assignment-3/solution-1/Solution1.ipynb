{
 "cells": [
  {
   "cell_type": "markdown",
   "metadata": {},
   "source": [
    "# Solution 1 (baseline)"
   ]
  },
  {
   "cell_type": "code",
   "execution_count": 3,
   "metadata": {},
   "outputs": [],
   "source": [
    "import pandas as pd\n",
    "from tqdm import tqdm\n",
    "from sklearn.model_selection import train_test_split\n",
    "import warnings\n",
    "\n",
    "warnings.filterwarnings(\"ignore\")"
   ]
  },
  {
   "cell_type": "code",
   "execution_count": 4,
   "metadata": {},
   "outputs": [],
   "source": [
    "# Read train data and split it into train and validation sets\n",
    "train_original_df = pd.read_json(\"../data/train.jsonl\", lines=True)\n",
    "\n",
    "train_df, val_df = train_test_split(train_original_df, test_size=0.2, random_state=42)"
   ]
  },
  {
   "cell_type": "code",
   "execution_count": 6,
   "metadata": {},
   "outputs": [],
   "source": [
    "def dataframe_to_dict(df):\n",
    "    # Create an empty dict to store the knowledge base of the NER model\n",
    "    knowledge_base = {}\n",
    "\n",
    "    # Add the labels to the doc_bin\n",
    "    for _, row in tqdm(df.iterrows(), total=len(df)):\n",
    "        text = row[\"sentences\"]\n",
    "        for start, end, label in row[\"ners\"]:\n",
    "            word = text[start:end + 1]\n",
    "            if word not in knowledge_base:\n",
    "                knowledge_base[word] = label\n",
    "\n",
    "    return knowledge_base"
   ]
  },
  {
   "cell_type": "code",
   "execution_count": 7,
   "metadata": {},
   "outputs": [
    {
     "name": "stderr",
     "output_type": "stream",
     "text": [
      "100%|██████████| 415/415 [00:00<00:00, 9974.08it/s]\n"
     ]
    }
   ],
   "source": [
    "train_knowledge_base = dataframe_to_dict(train_df)"
   ]
  },
  {
   "cell_type": "code",
   "execution_count": 8,
   "metadata": {},
   "outputs": [],
   "source": [
    "# Read dev and test data\n",
    "dev_df = pd.read_json(\"../data/dev.jsonl\", lines=True)\n",
    "test_df = pd.read_json(\"../data/test.jsonl\", lines=True)"
   ]
  },
  {
   "cell_type": "code",
   "execution_count": 9,
   "metadata": {},
   "outputs": [],
   "source": [
    "def predict_ner(text):\n",
    "    # Predict NER tags for the text according to the knowledge base\n",
    "    ners = []\n",
    "    current_index = 0\n",
    "    for word in text.split():\n",
    "        end_index = current_index + len(word)\n",
    "        if word in train_knowledge_base:\n",
    "            ners.append((current_index, end_index, train_knowledge_base[word]))\n",
    "        current_index = end_index + 1\n",
    "    return ners"
   ]
  },
  {
   "cell_type": "code",
   "execution_count": 10,
   "metadata": {},
   "outputs": [],
   "source": [
    "def predict_ner_df(df, output_file_path):\n",
    "    # Predict NER tags for each sentence in the dataframe\n",
    "\n",
    "    df = df.copy()\n",
    "\n",
    "    # Predict NER tags for each sentence\n",
    "    ners_col = []\n",
    "    for _, row in tqdm(df.iterrows(), total=len(df)):\n",
    "        text = row[\"senences\"]\n",
    "        ners = predict_ner(text)\n",
    "        ners = [(start, end - 1, label) for start, end, label in ners]\n",
    "        ners_col.append(ners)\n",
    "\n",
    "    # Add the predicted NER tags to the dataframe\n",
    "    df[\"ners\"] = ners_col\n",
    "\n",
    "    # Save the dataframe as a jsonl file\n",
    "    df.to_json(output_file_path, orient=\"records\", lines=True)"
   ]
  },
  {
   "cell_type": "code",
   "execution_count": 11,
   "metadata": {},
   "outputs": [
    {
     "name": "stderr",
     "output_type": "stream",
     "text": [
      "100%|██████████| 65/65 [00:00<00:00, 4334.13it/s]\n"
     ]
    }
   ],
   "source": [
    "predict_ner_df(dev_df, \"dev_predictions.jsonl\")"
   ]
  },
  {
   "cell_type": "code",
   "execution_count": 12,
   "metadata": {},
   "outputs": [
    {
     "name": "stderr",
     "output_type": "stream",
     "text": [
      "100%|██████████| 65/65 [00:00<00:00, 5416.09it/s]\n"
     ]
    }
   ],
   "source": [
    "predict_ner_df(test_df, \"test_predictions.jsonl\")"
   ]
  }
 ],
 "metadata": {
  "kernelspec": {
   "display_name": "venv",
   "language": "python",
   "name": "python3"
  },
  "language_info": {
   "codemirror_mode": {
    "name": "ipython",
    "version": 3
   },
   "file_extension": ".py",
   "mimetype": "text/x-python",
   "name": "python",
   "nbconvert_exporter": "python",
   "pygments_lexer": "ipython3",
   "version": "3.12.1"
  }
 },
 "nbformat": 4,
 "nbformat_minor": 2
}
